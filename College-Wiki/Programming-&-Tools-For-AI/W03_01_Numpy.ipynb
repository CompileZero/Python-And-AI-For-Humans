{
 "cells": [
  {
   "cell_type": "markdown",
   "metadata": {
    "slideshow": {
     "slide_type": "slide"
    }
   },
   "source": [
    "<center><img src=img/MScAI_brand.png width=70%></center>\n",
    "\n",
    "# Numpy"
   ]
  },
  {
   "cell_type": "markdown",
   "metadata": {
    "slideshow": {
     "slide_type": "slide"
    }
   },
   "source": [
    "Why Numpy?\n",
    "\n",
    "* Speed\n",
    "* Abstraction\n",
    "* A library of pre-written functions"
   ]
  },
  {
   "cell_type": "code",
   "execution_count": 1,
   "metadata": {
    "slideshow": {
     "slide_type": "subslide"
    }
   },
   "outputs": [],
   "source": [
    "import numpy as np"
   ]
  },
  {
   "cell_type": "markdown",
   "metadata": {
    "slideshow": {
     "slide_type": "subslide"
    }
   },
   "source": [
    "A cheat sheet: https://www.dataquest.io/blog/numpy-cheat-sheet/"
   ]
  },
  {
   "cell_type": "markdown",
   "metadata": {
    "slideshow": {
     "slide_type": "notes"
    }
   },
   "source": [
    "## This is Numpy\n",
    "\n",
    "Numpy (\"Numerical Python\", pronounced NUM-pie, not NUM-pee) is a library used in Python for numerical computing. Most scientific computing work in Python relies on Numpy as a base.\n",
    "\n",
    "But we can already do numerical calculations in Python, so why does Numpy exist? \n",
    "\n",
    "1. **Speed**. Numpy makes many numerical calculations much faster.\n",
    "\n",
    "2. **Abstraction**. It is very handy to be able to think of our equations as (e.g.) $y = \\beta x$ as opposed to $y_0 = \\beta x_0$, $y_1 = \\beta x_1$, etc., even though they mean the same thing.\n",
    "\n",
    "3. **A library**. Numpy provides many common functions. \"Batteries included.\"\n",
    "\n",
    "In this notebook, we'll start by seeing a nice 3rd-party tutorial which emphasises abstraction, and then fill in some extra details. In later notebooks, we'll see examples, input/output, plotting, and more."
   ]
  },
  {
   "cell_type": "markdown",
   "metadata": {
    "slideshow": {
     "slide_type": "subslide"
    }
   },
   "source": [
    "A nice introduction to Numpy basics which focusses on the benefit of *abstraction*:\n",
    "https://jalammar.github.io/visual-numpy/. We will look at an example calculation of mean-square-error.\n"
   ]
  },
  {
   "cell_type": "markdown",
   "metadata": {
    "slideshow": {
     "slide_type": "subslide"
    }
   },
   "source": [
    "### Numpy array\n",
    "\n",
    "\"NumPy’s main object is the homogeneous multidimensional array. It is a table of elements (usually numbers), all of the same type, indexed by a tuple of non-negative integers\" - https://numpy.org/devdocs/user/quickstart.html"
   ]
  },
  {
   "cell_type": "code",
   "execution_count": 2,
   "metadata": {
    "slideshow": {
     "slide_type": "subslide"
    }
   },
   "outputs": [
    {
     "output_type": "stream",
     "name": "stdout",
     "text": [
      "[4. 5. 6.]\n"
     ]
    }
   ],
   "source": [
    "a = np.array([4, 5, 6.0]) # make an array, passing in a list\n",
    "print(a)"
   ]
  },
  {
   "cell_type": "code",
   "execution_count": 3,
   "metadata": {
    "slideshow": {
     "slide_type": "fragment"
    }
   },
   "outputs": [
    {
     "output_type": "execute_result",
     "data": {
      "text/plain": [
       "(3,)"
      ]
     },
     "metadata": {},
     "execution_count": 3
    }
   ],
   "source": [
    "a.shape"
   ]
  },
  {
   "cell_type": "code",
   "execution_count": 4,
   "metadata": {
    "slideshow": {
     "slide_type": "fragment"
    }
   },
   "outputs": [
    {
     "output_type": "execute_result",
     "data": {
      "text/plain": [
       "dtype('float64')"
      ]
     },
     "metadata": {},
     "execution_count": 4
    }
   ],
   "source": [
    "a.dtype # data type"
   ]
  },
  {
   "cell_type": "markdown",
   "metadata": {
    "slideshow": {
     "slide_type": "subslide"
    }
   },
   "source": [
    "### Vectorisation\n",
    "\n",
    "A typical use-case for Numpy: we have a for-loop processing a list of numerical values, and we replace it with a single Numpy line. This is called *vectorisation*. The same concept is essential to good performance in Matlab and R.\n"
   ]
  },
  {
   "cell_type": "code",
   "execution_count": 5,
   "metadata": {},
   "outputs": [],
   "source": [
    "L = [4, 5, 6]\n",
    "for i in range(len(L)):\n",
    "    L[i] = L[i]**2 # L a Python list\n",
    "\n",
    "a = a**2 # a a Numpy array"
   ]
  },
  {
   "cell_type": "markdown",
   "metadata": {
    "slideshow": {
     "slide_type": "notes"
    }
   },
   "source": [
    "\n",
    "From the point of view of *abstraction*, the for-loop is hidden. From the point of view of *speed*, the for-loop is moved from pure Python into an underlying function written in C or Fortran."
   ]
  },
  {
   "cell_type": "markdown",
   "metadata": {
    "slideshow": {
     "slide_type": "subslide"
    }
   },
   "source": [
    "* Abstraction/brevity\n",
    "* Homogeneous operations/no flexibility -> speed"
   ]
  },
  {
   "cell_type": "markdown",
   "metadata": {
    "slideshow": {
     "slide_type": "notes"
    }
   },
   "source": [
    "When dealing with large data, Python can be slow. If we have a list of 10 numbers and we calculate the mean, it is instantaneous. But if we have 10 million numbers, it will be slow. The reason for this is Python's *flexibility*. Python allows a list to contain any type of value, eg we can have a mixed list of `int`s, `float`s, `string`s, other `list`s, and so on. Python has to check what type each value is before deciding how to add it (or whether it even *can* add it). \n",
    "\n",
    "In a Numpy array, all elements are of the same type, e.g. all `float`. Thus there is no need for Python to waste time checking what type each value is. The saving is probably a factor of 100, depending on the workload."
   ]
  },
  {
   "cell_type": "markdown",
   "metadata": {
    "slideshow": {
     "slide_type": "notes"
    }
   },
   "source": [
    "Vectorisation is also happening when, e.g., we add two arrays: "
   ]
  },
  {
   "cell_type": "code",
   "execution_count": 6,
   "metadata": {
    "slideshow": {
     "slide_type": "subslide"
    }
   },
   "outputs": [
    {
     "output_type": "stream",
     "name": "stdout",
     "text": [
      "[17. 27. 39.]\n"
     ]
    }
   ],
   "source": [
    "b = np.array([1, 2, 3])\n",
    "print(a + b)"
   ]
  },
  {
   "cell_type": "markdown",
   "metadata": {
    "slideshow": {
     "slide_type": "subslide"
    }
   },
   "source": [
    "We should become comfortable with the difference between *element-wise arithmetic* and *aggregation*. These look similar, but the result is an `array` in one case and a single value in the other."
   ]
  },
  {
   "cell_type": "code",
   "execution_count": 7,
   "metadata": {},
   "outputs": [
    {
     "output_type": "stream",
     "name": "stdout",
     "text": [
      "[2. 3. 4.]\n16\n"
     ]
    }
   ],
   "source": [
    "x = np.array([4, 9, 16])\n",
    "print(np.sqrt(x))\n",
    "print(np.max(x))"
   ]
  },
  {
   "cell_type": "markdown",
   "metadata": {
    "slideshow": {
     "slide_type": "subslide"
    }
   },
   "source": [
    "### More ways of making arrays\n",
    "\n",
    "* `np.zeros(shape)` and `np.ones(shape)`\n",
    "* Random numbers: we can use `np.random.random(shape)` for uniform values in $[0, 1]$. We can also generate from other distributions, e.g. using `np.random.normal(shape)`. \n"
   ]
  },
  {
   "cell_type": "markdown",
   "metadata": {
    "slideshow": {
     "slide_type": "subslide"
    }
   },
   "source": [
    "### `np.sum(a)` versus `a.sum()`\n",
    "\n",
    "In several cases, one can write either style. "
   ]
  },
  {
   "cell_type": "code",
   "execution_count": 8,
   "metadata": {},
   "outputs": [
    {
     "output_type": "stream",
     "name": "stdout",
     "text": [
      "29\n29\n"
     ]
    }
   ],
   "source": [
    "a = np.array([4, 9, 16])\n",
    "print(np.sum(a))\n",
    "print(a.sum())"
   ]
  },
  {
   "cell_type": "markdown",
   "metadata": {
    "slideshow": {
     "slide_type": "subslide"
    }
   },
   "source": [
    "But for arithmetic functions, most are not available as methods of the array, e.g.:"
   ]
  },
  {
   "cell_type": "code",
   "execution_count": 9,
   "metadata": {},
   "outputs": [
    {
     "output_type": "stream",
     "name": "stdout",
     "text": [
      "[2. 3. 4.]\nThat doesn't exist!\n"
     ]
    }
   ],
   "source": [
    "print(np.sqrt(a))\n",
    "try:\n",
    "    print(a.sqrt())\n",
    "except:\n",
    "    print(\"That doesn't exist!\")"
   ]
  },
  {
   "cell_type": "markdown",
   "metadata": {
    "slideshow": {
     "slide_type": "subslide"
    }
   },
   "source": [
    "`argmax` and friends are often overlooked (and eventually re-implemented) by beginners."
   ]
  },
  {
   "cell_type": "code",
   "execution_count": 10,
   "metadata": {},
   "outputs": [
    {
     "output_type": "stream",
     "name": "stdout",
     "text": [
      "2\n"
     ]
    }
   ],
   "source": [
    "x = np.array([4, 5, 6, 1])\n",
    "# the index where the largest element is\n",
    "print(x.argmax()) "
   ]
  },
  {
   "cell_type": "markdown",
   "metadata": {
    "slideshow": {
     "slide_type": "subslide"
    }
   },
   "source": [
    "We have seen how to create Numpy arrays by passing in lists. Of course, another way is to read from a file.\n",
    "We'll cover file input/output in a later notebook/video. "
   ]
  },
  {
   "cell_type": "markdown",
   "metadata": {
    "slideshow": {
     "slide_type": "slide"
    }
   },
   "source": [
    "### `np.linspace()`\n",
    "\n",
    "Another handy way to create an array is to create evenly-spaced values. We use `np.linspace`. We have to say where the values start and stop, and how many there should be. `np.linspace` works out the rest:"
   ]
  },
  {
   "cell_type": "code",
   "execution_count": 11,
   "metadata": {
    "slideshow": {
     "slide_type": "fragment"
    }
   },
   "outputs": [
    {
     "output_type": "stream",
     "name": "stdout",
     "text": [
      "[ 0.  1.  2.  3.  4.  5.  6.  7.  8.  9. 10.]\n"
     ]
    }
   ],
   "source": [
    "# start, stop, n_values\n",
    "grid = np.linspace(0, 10, 11) \n",
    "print(grid)"
   ]
  },
  {
   "cell_type": "markdown",
   "metadata": {
    "slideshow": {
     "slide_type": "slide"
    }
   },
   "source": [
    "### Exercises"
   ]
  },
  {
   "cell_type": "markdown",
   "metadata": {
    "slideshow": {
     "slide_type": "subslide"
    }
   },
   "source": [
    "**Exercise**: Using `linspace`, make this array: \n",
    "\n",
    "`[ 0. 0.25 0.5 0.75 1. 1.25 1.5 1.75 2.]`"
   ]
  },
  {
   "cell_type": "markdown",
   "metadata": {
    "slideshow": {
     "slide_type": "subslide"
    }
   },
   "source": [
    "**Exercise**: `np.logspace` does something similar. Use it to make this array: \n",
    "\n",
    "`[1.e-06 1.e-05 1.e-04 1.e-03 1.e-02 1.e-01 1.e+00]`"
   ]
  },
  {
   "cell_type": "markdown",
   "metadata": {
    "slideshow": {
     "slide_type": "subslide"
    }
   },
   "source": [
    "**Exercise**: Generate a list of 20 numbers in a Gaussian (normal) distribution, with mean 10 and standard deviation 10. Confirm the statistics are correct using `np.mean` and `np.std`."
   ]
  },
  {
   "cell_type": "markdown",
   "metadata": {
    "slideshow": {
     "slide_type": "subslide"
    }
   },
   "source": [
    "**Exercise**: What happens if we try to add two arrays of different lengths?"
   ]
  },
  {
   "cell_type": "markdown",
   "metadata": {
    "slideshow": {
     "slide_type": "subslide"
    }
   },
   "source": [
    "### Further reading\n",
    "\n",
    "* Here is a nice textbook reference on Numpy with several longer worked examples: http://www.labri.fr/perso/nrougier/from-python-to-numpy/\n",
    "* If you're already good at Matlab: https://www.numpy.org/devdocs/user/numpy-for-matlab-users.html\n",
    "* If you're already good at R: http://mathesaurus.sourceforge.net/r-numpy.html\n",
    "\n"
   ]
  },
  {
   "cell_type": "markdown",
   "metadata": {
    "slideshow": {
     "slide_type": "subslide"
    }
   },
   "source": [
    "### Solutions to exercises"
   ]
  },
  {
   "cell_type": "code",
   "execution_count": 12,
   "metadata": {
    "slideshow": {
     "slide_type": "subslide"
    }
   },
   "outputs": [
    {
     "output_type": "execute_result",
     "data": {
      "text/plain": [
       "array([0.        , 0.28571429, 0.57142857, 0.85714286, 1.14285714,\n",
       "       1.42857143, 1.71428571, 2.        ])"
      ]
     },
     "metadata": {},
     "execution_count": 12
    }
   ],
   "source": [
    "import numpy as np\n",
    "np.linspace(0, 2, 8)"
   ]
  },
  {
   "cell_type": "code",
   "execution_count": 13,
   "metadata": {
    "slideshow": {
     "slide_type": "subslide"
    }
   },
   "outputs": [
    {
     "output_type": "execute_result",
     "data": {
      "text/plain": [
       "array([1.e-06, 1.e-05, 1.e-04, 1.e-03, 1.e-02, 1.e-01, 1.e+00])"
      ]
     },
     "metadata": {},
     "execution_count": 13
    }
   ],
   "source": [
    "np.logspace(-6, 0, 7)"
   ]
  },
  {
   "cell_type": "code",
   "execution_count": 14,
   "metadata": {
    "slideshow": {
     "slide_type": "subslide"
    }
   },
   "outputs": [
    {
     "output_type": "stream",
     "name": "stdout",
     "text": [
      "[ 12.13630796   4.65355434  17.79988275  -3.76665774 -10.44058696\n  14.65879083  15.96300359  27.71685188   9.54868388   1.61542693\n   0.64936588   1.67462488   4.6468321   18.28134721  -4.90962392\n   6.7352366    9.40327919   2.81005109   5.0357925    7.90135541]\n7.105675919291992 8.784856407519356\n"
     ]
    }
   ],
   "source": [
    "x = np.random.normal(10, 10, 20)\n",
    "print(x)\n",
    "print(x.mean(), x.std())"
   ]
  },
  {
   "cell_type": "code",
   "execution_count": 15,
   "metadata": {
    "slideshow": {
     "slide_type": "subslide"
    }
   },
   "outputs": [
    {
     "output_type": "error",
     "ename": "ValueError",
     "evalue": "operands could not be broadcast together with shapes (3,) (4,) ",
     "traceback": [
      "\u001b[0;31m---------------------------------------------------------------------------\u001b[0m",
      "\u001b[0;31mValueError\u001b[0m                                Traceback (most recent call last)",
      "\u001b[0;32m<ipython-input-15-11b3836befd7>\u001b[0m in \u001b[0;36m<module>\u001b[0;34m\u001b[0m\n\u001b[0;32m----> 1\u001b[0;31m \u001b[0mnp\u001b[0m\u001b[0;34m.\u001b[0m\u001b[0marray\u001b[0m\u001b[0;34m(\u001b[0m\u001b[0;34m[\u001b[0m\u001b[0;36m4\u001b[0m\u001b[0;34m,\u001b[0m \u001b[0;36m5\u001b[0m\u001b[0;34m,\u001b[0m \u001b[0;36m6\u001b[0m\u001b[0;34m]\u001b[0m\u001b[0;34m)\u001b[0m \u001b[0;34m+\u001b[0m \u001b[0mnp\u001b[0m\u001b[0;34m.\u001b[0m\u001b[0marray\u001b[0m\u001b[0;34m(\u001b[0m\u001b[0;34m[\u001b[0m\u001b[0;36m1\u001b[0m\u001b[0;34m,\u001b[0m \u001b[0;36m2\u001b[0m\u001b[0;34m,\u001b[0m \u001b[0;36m3\u001b[0m\u001b[0;34m,\u001b[0m \u001b[0;36m4\u001b[0m\u001b[0;34m]\u001b[0m\u001b[0;34m)\u001b[0m\u001b[0;34m\u001b[0m\u001b[0;34m\u001b[0m\u001b[0m\n\u001b[0m",
      "\u001b[0;31mValueError\u001b[0m: operands could not be broadcast together with shapes (3,) (4,) "
     ]
    }
   ],
   "source": [
    "np.array([4, 5, 6]) + np.array([1, 2, 3, 4])"
   ]
  }
 ],
 "metadata": {
  "anaconda-cloud": {},
  "celltoolbar": "Slideshow",
  "kernelspec": {
   "name": "Python 3.8.5 64-bit ('base': conda)",
   "display_name": "Python 3.8.5 64-bit ('base': conda)",
   "metadata": {
    "interpreter": {
     "hash": "dca0ade3e726a953b501b15e8e990130d2b7799f14cfd9f4271676035ebe5511"
    }
   }
  },
  "language_info": {
   "codemirror_mode": {
    "name": "ipython",
    "version": 3
   },
   "file_extension": ".py",
   "mimetype": "text/x-python",
   "name": "python",
   "nbconvert_exporter": "python",
   "pygments_lexer": "ipython3",
   "version": "3.8.5-final"
  }
 },
 "nbformat": 4,
 "nbformat_minor": 1
}